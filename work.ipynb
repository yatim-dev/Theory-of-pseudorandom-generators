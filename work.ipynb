{
 "cells": [
  {
   "cell_type": "markdown",
   "metadata": {},
   "source": [
    " Ярков Тимофей максимович, КБ-4 \\\n",
    " N = 21"
   ]
  },
  {
   "cell_type": "code",
   "execution_count": 1,
   "metadata": {},
   "outputs": [
    {
     "name": "stdout",
     "output_type": "stream",
     "text": [
      "7605\n"
     ]
    }
   ],
   "source": [
    "N = 21\n",
    "R = 17 * N ** 2 + 5 * N + 3\n",
    "print(R)"
   ]
  },
  {
   "cell_type": "markdown",
   "metadata": {},
   "source": [
    "Теперь найдем последовательность чисел, которая порождается генератором.\\\n",
    "Так как создаем последовательность для тестов NIST, то зададим длину более 128 бит"
   ]
  },
  {
   "cell_type": "code",
   "execution_count": 2,
   "metadata": {},
   "outputs": [
    {
     "name": "stdout",
     "output_type": "stream",
     "text": [
      "[11579, 112, 60, 59, 37, 61, 81, 13, 41, 22, 112, 60, 59, 37, 61, 81, 13, 41, 22, 112, 60, 59, 37, 61, 81, 13, 41, 22, 112, 60, 59, 37, 61, 81, 13, 41, 22, 112, 60, 59, 37, 61, 81, 13, 41, 22, 112, 60, 59, 37, 61]\n"
     ]
    }
   ],
   "source": [
    "x_0 = 11579\n",
    "dec_sequence = [x_0]\n",
    "for i in range(50):\n",
    "    x_next = (7 * R * dec_sequence[i] + R ** 2 - 11 * R) % 127\n",
    "    dec_sequence.append(x_next)\n",
    "print(dec_sequence)"
   ]
  },
  {
   "cell_type": "markdown",
   "metadata": {},
   "source": [
    "Так как для проверки случайности последовательности необходимо использовать тесты NIST, которые принимают на вход бинарные последовательности, то переведем и нашу последовательность в двоичный вид"
   ]
  },
  {
   "cell_type": "code",
   "execution_count": 3,
   "metadata": {},
   "outputs": [
    {
     "name": "stdout",
     "output_type": "stream",
     "text": [
      "Длина последовательности: 310\n",
      "последовательность: 1011010011101111100001111001110111001011111011010001110110100110110111000011110011101110010111110110100011101101001101101110000111100111011100101111101101000111011010011011011100001111001110111001011111011010001110110100110110111000011110011101110010111110110100011101101001101101110000111100111011100101111101\n"
     ]
    }
   ],
   "source": [
    "binary_data = ''.join(bin(n)[2:] for n in dec_sequence)\n",
    "print(f\"Длина последовательности: {len(binary_data)}\")\n",
    "print(f\"последовательность: {binary_data}\")"
   ]
  },
  {
   "cell_type": "markdown",
   "metadata": {},
   "source": [
    "Проведем блок NIST статистических тестов.\n",
    "1. Частотный побитовый тест ++\n",
    "2. Частотный блочный тест ++\n",
    "3. Тест на последовательность одинаковых битов ?\n",
    "4. Тест на самую длинную последовательность единиц в блоке ++\n",
    "5. Тест рангов бинарных матриц ?\n",
    "6. Спектральный тест ?\n",
    "7. Тест на совпадение неперекрывающихся шаблонов ++\n",
    "8. Тест на совпадение перекрывающихся шаблонов ++\n",
    "9. Универсальный статистический тест Маурера ++\n",
    "10. Тест на линейную сложность ++\n",
    "11. Тест на периодичность ?\n",
    "12. Тест приблизительной энтропии +\n",
    "13. Тест кумулятивных сумм +\n",
    "14. Тест на произвольные отклонения ?"
   ]
  },
  {
   "cell_type": "code",
   "execution_count": 4,
   "metadata": {},
   "outputs": [
    {
     "name": "stdout",
     "output_type": "stream",
     "text": [
      "1. Тест на моноблоч частоту: p-value = 0.00011239790378993443\n",
      "2. Тест на частоту блока: p-value = 0.002120189091864673\n",
      "3. Тест на самую длинную последовательность единиц в блоке: p-value = 0.00013904847067249505\n",
      "4. Тест на совпадение неперекрывающихся шаблонов: p-value = 0.9999999934302992\n",
      "5. Тест на не совпадение неперекрывающихся шаблонов: p-value = 0.9999520086279319\n",
      "6. Универсальный статистический тест Маурера: p-value = (-1.0, False)\n",
      "7. Тест на линейную сложность: p-value = (-1.0, False)\n",
      "8. Тест приблизительной энтропии: p-value = (1.0, True)\n",
      "9. Тест на линейную сложность: p-value = (0.00022479580758001072, False)\n"
     ]
    }
   ],
   "source": [
    "from tests import *\n",
    "\n",
    "print(f\"1. Тест на моноблоч частоту: p-value = {Tests.monobit_test(binary_data)}\")\n",
    "print(f\"2. Тест на частоту блока: p-value = {Tests.block_frequency_test(binary_data)}\")\n",
    "print(f\"3. Тест на самую длинную последовательность единиц в блоке: p-value = {Tests.longest_run_ones_in_block_test(binary_data)}\")\n",
    "print(f\"4. Тест на совпадение неперекрывающихся шаблонов: p-value = {Tests.overlapping_patterns(binary_data)}\")\n",
    "print(f\"5. Тест на не совпадение неперекрывающихся шаблонов: p-value = {Tests.non_overlapping_test(binary_data)}\")\n",
    "print(f\"6. Универсальный статистический тест Маурера: p-value = {Tests.statistical_test(binary_data)}\")\n",
    "print(f\"7. Тест на линейную сложность: p-value = {Tests.linear_complexity_test(binary_data)}\")\n",
    "print(f\"8. Тест приблизительной энтропии: p-value = {Tests.approximate_entropy_test(binary_data)}\")\n",
    "print(f\"9. Тест на линейную сложность: p-value = {Tests.cumulative_sums_test(binary_data)}\")"
   ]
  }
 ],
 "metadata": {
  "kernelspec": {
   "display_name": "Python 3",
   "language": "python",
   "name": "python3"
  },
  "language_info": {
   "codemirror_mode": {
    "name": "ipython",
    "version": 3
   },
   "file_extension": ".py",
   "mimetype": "text/x-python",
   "name": "python",
   "nbconvert_exporter": "python",
   "pygments_lexer": "ipython3",
   "version": "3.12.3"
  }
 },
 "nbformat": 4,
 "nbformat_minor": 2
}
