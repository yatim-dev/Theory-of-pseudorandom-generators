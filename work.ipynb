{
 "cells": [
  {
   "cell_type": "markdown",
   "metadata": {},
   "source": [
    " Ярков Тимофей максимович, КБ-4 \\\n",
    " N = 21"
   ]
  },
  {
   "cell_type": "code",
   "execution_count": null,
   "metadata": {},
   "outputs": [],
   "source": [
    "N = 21\n",
    "R = 17 * N ** 2 + 5 * N + 3\n",
    "print(R)"
   ]
  },
  {
   "cell_type": "markdown",
   "metadata": {},
   "source": [
    "Теперь найдем последовательность чисел, которая порождается генератором.\\\n",
    "Так как создаем последовательность для тестов NIST, то зададим длину более 128 бит"
   ]
  },
  {
   "cell_type": "code",
   "execution_count": null,
   "metadata": {},
   "outputs": [],
   "source": [
    "x_0 = 11579\n",
    "dec_sequence = [x_0]\n",
    "for i in range(10000):\n",
    "    x_next = (7 * R * dec_sequence[i] + R ** 2 - 11 * R) % 127\n",
    "    dec_sequence.append(x_next)\n",
    "print(dec_sequence)"
   ]
  },
  {
   "cell_type": "markdown",
   "metadata": {},
   "source": [
    "Так как для проверки случайности последовательности необходимо использовать тесты NIST, которые принимают на вход бинарные последовательности, то переведем и нашу последовательность в двоичный вид"
   ]
  },
  {
   "cell_type": "code",
   "execution_count": null,
   "metadata": {},
   "outputs": [],
   "source": [
    "binary_data = ''.join(bin(n)[2:] for n in dec_sequence)\n",
    "print(f\"Длина последовательности: {len(binary_data)} бит\")\n",
    "print(f\"последовательность: {binary_data}\")"
   ]
  },
  {
   "cell_type": "markdown",
   "metadata": {},
   "source": [
    "Проведем блок NIST статистических тестов.\n",
    "1. Частотный побитовый тест\n",
    "2. Частотный блочный тест \n",
    "3. Тест на самую длинную последовательность единиц в блоке \n",
    "4. Тест на совпадение неперекрывающихся шаблонов \n",
    "5. Тест на не совпадение перекрывающихся шаблонов\n",
    "6. Универсальный статистический тест Маурера\n",
    "7. Тест на линейную сложность\n",
    "8. Тест приблизительной энтропии\n",
    "9. Тест кумулятивных сумм"
   ]
  },
  {
   "cell_type": "markdown",
   "metadata": {},
   "source": [
    "Введем гипотезу H(0) - последовательность случайна p-value >= 0.01 \\\n",
    "Альтернативная H(alt) - последовательность не случайна p-value < 0.01"
   ]
  },
  {
   "cell_type": "code",
   "execution_count": null,
   "metadata": {},
   "outputs": [],
   "source": [
    "from tests import *\n",
    "\n",
    "test_results = [_ for i in range(9)]\n",
    "\n",
    "monobit_test_p_value, test_results[0] = Tests.monobit_test(binary_data)\n",
    "block_frequency_p_value, test_results[1] = Tests.block_frequency_test(binary_data)\n",
    "longest_run_ones_in_block_p_value, test_results[2] = Tests.longest_run_ones_in_block_test(binary_data)\n",
    "overlapping_patterns_p_value, test_results[3] = Tests.overlapping_patterns(binary_data)\n",
    "non_overlapping_patterns_p_value, test_results[4] = Tests.non_overlapping_test(binary_data)\n",
    "statistical_p_value, test_results[5] = Tests.statistical_test(binary_data)\n",
    "linear_complexity_p_value, test_results[6] = Tests.linear_complexity_test(binary_data)\n",
    "approximate_entropy_p_value, test_results[7] = Tests.approximate_entropy_test(binary_data)\n",
    "cumulative_sums_p_value, test_results[8] = Tests.cumulative_sums_test(binary_data)\n",
    "\n",
    "print(f\"1. Тест на моноблочную частоту: p-value = {monobit_test_p_value, test_results[0]}\")\n",
    "print(f\"2. Тест на частоту блока: p-value = {block_frequency_p_value, test_results[1]}\")\n",
    "print(f\"3. Тест на самую длинную последовательность единиц в блоке: p-value = {longest_run_ones_in_block_p_value, test_results[2]}\")\n",
    "print(f\"4. Тест на совпадение неперекрывающихся шаблонов: p-value = {overlapping_patterns_p_value, test_results[3]}\")\n",
    "print(f\"5. Тест на не совпадение неперекрывающихся шаблонов: p-value = {non_overlapping_patterns_p_value, test_results[4]}\")\n",
    "print(f\"6. Универсальный статистический тест Маурера: p-value = {statistical_p_value, test_results[5]}\")\n",
    "print(f\"7. Тест на линейную сложность: p-value = {linear_complexity_p_value, test_results[6]}\")\n",
    "print(f\"8. Тест приблизительной энтропии: p-value = {approximate_entropy_p_value, test_results[7]}\")\n",
    "print(f\"9. Тест куммулятивных сумм: p-value = {cumulative_sums_p_value, test_results[8]}\")\n",
    "\n",
    "random_counter = 0\n",
    "non_rundom_counter = 0\n",
    "\n",
    "for el in test_results:\n",
    "    if el == 'Random':\n",
    "        random_counter += 1\n",
    "    else:\n",
    "        non_rundom_counter += 1\n",
    "\n",
    "if random_counter > non_rundom_counter:\n",
    "    print(\"Принимаем нулевую гипотезу. Последовательность можно назвать случайной\")\n",
    "else:\n",
    "    print(\"Отвергаем нулевую гипотезу в пользу альтернативной. Последовательность нельзя назвать случайной\")"
   ]
  },
  {
   "cell_type": "markdown",
   "metadata": {},
   "source": [
    "Теперь используем вихрь Мерсенна для генерации псевдо-случайных чисел\\\n",
    "Нам повезло что в библиотеке numpy имеется реализация вихря Мерсенна. Используем имеено эту библиотеку"
   ]
  },
  {
   "cell_type": "code",
   "execution_count": null,
   "metadata": {},
   "outputs": [],
   "source": [
    "from numpy.random import Generator, MT19937\n",
    "\n",
    "rng = Generator(MT19937(11579))\n",
    "\n",
    "random_sequence = rng.integers(0, 2, size=1000)\n",
    "\n",
    "binary_mersenne_data = \"\".join(str(n) for n in random_sequence.tolist())\n",
    "print(f\"Длина последовательности: {len(binary_mersenne_data)} бит\")\n",
    "print(f\"последовательность: {binary_mersenne_data}\")"
   ]
  },
  {
   "cell_type": "code",
   "execution_count": null,
   "metadata": {},
   "outputs": [],
   "source": [
    "monobit_test_p_value, test_results[0] = Tests.monobit_test(binary_mersenne_data)\n",
    "block_frequency_p_value, test_results[1] = Tests.block_frequency_test(binary_mersenne_data)\n",
    "longest_run_ones_in_block_p_value, test_results[2] = Tests.longest_run_ones_in_block_test(binary_mersenne_data)\n",
    "overlapping_patterns_p_value, test_results[3] = Tests.overlapping_patterns(binary_mersenne_data)\n",
    "non_overlapping_patterns_p_value, test_results[4] = Tests.non_overlapping_test(binary_mersenne_data)\n",
    "statistical_p_value, test_results[5] = Tests.statistical_test(binary_mersenne_data)\n",
    "linear_complexity_p_value, test_results[6] = Tests.linear_complexity_test(binary_mersenne_data)\n",
    "approximate_entropy_p_value, test_results[7] = Tests.approximate_entropy_test(binary_mersenne_data)\n",
    "cumulative_sums_p_value, test_results[8] = Tests.cumulative_sums_test(binary_mersenne_data)\n",
    "\n",
    "print(f\"1. Тест на моноблочную частоту: p-value = {monobit_test_p_value, test_results[0]}\")\n",
    "print(f\"2. Тест на частоту блока: p-value = {block_frequency_p_value, test_results[1]}\")\n",
    "print(f\"3. Тест на самую длинную последовательность единиц в блоке: p-value = {longest_run_ones_in_block_p_value, test_results[2]}\")\n",
    "print(f\"4. Тест на совпадение неперекрывающихся шаблонов: p-value = {overlapping_patterns_p_value, test_results[3]}\")\n",
    "print(f\"5. Тест на не совпадение неперекрывающихся шаблонов: p-value = {non_overlapping_patterns_p_value, test_results[4]}\")\n",
    "print(f\"6. Универсальный статистический тест Маурера: p-value = {statistical_p_value, test_results[5]}\")\n",
    "print(f\"7. Тест на линейную сложность: p-value = {linear_complexity_p_value, test_results[6]}\")\n",
    "print(f\"8. Тест приблизительной энтропии: p-value = {approximate_entropy_p_value, test_results[7]}\")\n",
    "print(f\"9. Тест куммулятивных сумм: p-value = {cumulative_sums_p_value, test_results[8]}\")\n",
    "\n",
    "random_counter = 0\n",
    "non_rundom_counter = 0\n",
    "\n",
    "for el in test_results:\n",
    "    if el == 'Random':\n",
    "        random_counter += 1\n",
    "    else:\n",
    "        non_rundom_counter += 1\n",
    "\n",
    "if random_counter > non_rundom_counter:\n",
    "    print(\"Принимаем нулевую гипотезу. Последовательность можно назвать случайной\")\n",
    "else:\n",
    "    print(\"Отвергаем нулевую гипотезу в пользу альтернативной. Последовательность нельзя назвать случайной\")"
   ]
  }
 ],
 "metadata": {
  "kernelspec": {
   "display_name": "Python 3",
   "language": "python",
   "name": "python3"
  },
  "language_info": {
   "codemirror_mode": {
    "name": "ipython",
    "version": 3
   },
   "file_extension": ".py",
   "mimetype": "text/x-python",
   "name": "python",
   "nbconvert_exporter": "python",
   "pygments_lexer": "ipython3",
   "version": "3.12.3"
  }
 },
 "nbformat": 4,
 "nbformat_minor": 2
}
