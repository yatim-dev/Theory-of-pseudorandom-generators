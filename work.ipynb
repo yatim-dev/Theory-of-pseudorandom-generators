{
 "cells": [
  {
   "cell_type": "markdown",
   "metadata": {},
   "source": [
    " Ярков Тимофей максимович, КБ-4 \\\n",
    " N = 21"
   ]
  },
  {
   "cell_type": "code",
   "execution_count": 83,
   "metadata": {},
   "outputs": [
    {
     "name": "stdout",
     "output_type": "stream",
     "text": [
      "7605\n"
     ]
    }
   ],
   "source": [
    "N = 21\n",
    "R = 17 * N ** 2 + 5 * N + 3\n",
    "print(R)"
   ]
  },
  {
   "cell_type": "markdown",
   "metadata": {},
   "source": [
    "Теперь найдем последовательность чисел, которая порождается генератором.\\\n",
    "Так как создаем последовательность для тестов NIST, то зададим длину более 128 бит"
   ]
  },
  {
   "cell_type": "code",
   "execution_count": 84,
   "metadata": {},
   "outputs": [
    {
     "name": "stdout",
     "output_type": "stream",
     "text": [
      "[11579, 112, 60, 59, 37, 61, 81, 13, 41, 22, 112, 60, 59, 37, 61, 81, 13, 41, 22, 112, 60, 59, 37, 61, 81, 13, 41, 22, 112, 60, 59]\n"
     ]
    }
   ],
   "source": [
    "x_0 = 11579\n",
    "dec_sequence = [x_0]\n",
    "for i in range(30):\n",
    "    x_next = (7 * R * dec_sequence[i] + R ** 2 - 11 * R) % 127\n",
    "    dec_sequence.append(x_next)\n",
    "print(dec_sequence)"
   ]
  },
  {
   "cell_type": "markdown",
   "metadata": {},
   "source": [
    "Так как для проверки случайности последовательности необходимо использовать тесты NIST, которые принимают на вход бинарные последовательности, то переведем и нашу последовательность в двоичный вид"
   ]
  },
  {
   "cell_type": "code",
   "execution_count": 85,
   "metadata": {},
   "outputs": [
    {
     "name": "stdout",
     "output_type": "stream",
     "text": [
      "Длина последовательности: 192\n",
      "последовательность: 101101001110111110000111100111011100101111101101000111011010011011011100001111001110111001011111011010001110110100110110111000011110011101110010111110110100011101101001101101110000111100111011\n"
     ]
    }
   ],
   "source": [
    "binary_data = ''.join(bin(n)[2:] for n in dec_sequence)\n",
    "print(f\"Длина последовательности: {len(binary_data)}\")\n",
    "print(f\"последовательность: {binary_data}\")"
   ]
  },
  {
   "cell_type": "markdown",
   "metadata": {},
   "source": [
    "Проведем блок NIST статистических тестов.\n",
    "1. Частотный побитовый тест +\n",
    "2. Частотный блочный тест +\n",
    "3. Тест на последовательность одинаковых битов ?\n",
    "4. Тест на самую длинную последовательность единиц в блоке +\n",
    "5. Тест рангов бинарных матриц ?\n",
    "6. Спектральный тест ?\n",
    "7. Тест на совпадение неперекрывающихся шаблонов +\n",
    "8. Тест на совпадение перекрывающихся шаблонов +\n",
    "9. Универсальный статистический тест Маурера +\n",
    "10. Тест на линейную сложность +\n",
    "11. Тест на периодичность ?\n",
    "12. Тест приблизительной энтропии +\n",
    "13. Тест кумулятивных сумм +\n",
    "14. Тест на произвольные отклонения ?"
   ]
  },
  {
   "cell_type": "code",
   "execution_count": 86,
   "metadata": {},
   "outputs": [
    {
     "name": "stdout",
     "output_type": "stream",
     "text": [
      "1. Тест на моноблоч частоту: p-значение = 0.0024367348089890093\n",
      "2. Тест на частоту блока: p-значение = 0.008275325921954001\n"
     ]
    }
   ],
   "source": [
    "from scipy.special import erfc\n",
    "import numpy as np\n",
    "\n",
    "def monobit_test(bin_data):\n",
    "    \"\"\"\n",
    "    Выполняет побитный частотный тест на двоичных данных.\n",
    "    :param bin_data: Двоичная строка для тестирования\n",
    "    :return: p-значение из теста\n",
    "    \"\"\"\n",
    "    count = 0\n",
    "    # Если символ равен 0, вычитаем 1, иначе прибавляем 1\n",
    "    for char in bin_data:\n",
    "        if char == '0':\n",
    "            count -= 1\n",
    "        else:\n",
    "            count += 1\n",
    "    # Вычисляем p-значение\n",
    "    sobs = count / np.sqrt(len(bin_data))\n",
    "    p_val = erfc(abs(sobs) / np.sqrt(2))\n",
    "    return p_val\n",
    "\n",
    "def block_frequency_test(bin_data, block_size = 128):\n",
    "    \"\"\"\n",
    "    Выполняет блочный частотный тест на двоичных данных.\n",
    "    :param bin_data: Двоичная строка для тестирования\n",
    "    :param block_size: Размер блока\n",
    "    :return: p-значение из теста\n",
    "    \"\"\"\n",
    "    # Разбиваем данные на блоки\n",
    "    num_blocks = len(bin_data) // block_size\n",
    "    blocks = [bin_data[i * block_size:(i + 1) * block_size] for i in range(num_blocks)]\n",
    "    \n",
    "    # Вычисляем пропорцию нулей и единиц в каждом блоке\n",
    "    proportions = [block.count('1') / block_size for block in blocks]\n",
    "    \n",
    "    # Вычисляем chi-square статистику\n",
    "    chi_square = 4 * block_size * sum((prop - 0.5)**2 for prop in proportions)\n",
    "    \n",
    "    # Вычисляем p-значение\n",
    "    p_val = erfc(chi_square / (2 * np.sqrt(2 * num_blocks)))\n",
    "    return p_val\n",
    "\n",
    "print(f\"1. Тест на моноблоч частоту: p-значение = {monobit_test(binary_data)}\")\n",
    "print(f\"2. Тест на частоту блока: p-значение = {block_frequency_test(binary_data)}\")\n"
   ]
  }
 ],
 "metadata": {
  "kernelspec": {
   "display_name": "Python 3",
   "language": "python",
   "name": "python3"
  },
  "language_info": {
   "codemirror_mode": {
    "name": "ipython",
    "version": 3
   },
   "file_extension": ".py",
   "mimetype": "text/x-python",
   "name": "python",
   "nbconvert_exporter": "python",
   "pygments_lexer": "ipython3",
   "version": "3.12.3"
  }
 },
 "nbformat": 4,
 "nbformat_minor": 2
}
